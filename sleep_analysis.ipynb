{
 "cells": [
  {
   "cell_type": "markdown",
   "id": "8c691557276d204e",
   "metadata": {},
   "source": [
    "Data source: https://www.kaggle.com/datasets/equilibriumm/sleep-efficiency/"
   ]
  },
  {
   "cell_type": "markdown",
   "id": "efda0e23b068d34b",
   "metadata": {},
   "source": [
    "# CRISP-DM\n",
    "1. Business Understanding\n",
    "2. Data Understanding\n",
    "3. Data Preparation\n",
    "4. Modeling\n",
    "5. Evaluation\n",
    "6. Deployment"
   ]
  },
  {
   "cell_type": "markdown",
   "id": "1e16b8f6bad2c466",
   "metadata": {},
   "source": [
    "## 1. Business Understanding\n",
    "\n",
    "Challenges & open questions\n",
    "- Metadata on Kaggle is incomplete\n",
    "- Is the data fake or real?\n",
    "- Does each row in the dataset correspond to one individual or is it possible that the same individual appears more than once?\n",
    "\n",
    "Assumptions\n",
    "- There are 452 different individuals (however, that makes it impossible to correct for individual characteristics)\n",
    "- Exercise frequency = number of exercise per week (answer found on kaggle)\n",
    "- Alcohol consumption = number of drinks in the last 24h\n",
    "- Caffeine consumption = caffeine [in mg] in the last 24h\n",
    "\n",
    "Questions\n",
    "1. Does age influence the sleep duration?\n",
    "2. Does caffeine consumption decrease sleep efficiency?\n",
    "3. What other factors are most important for sleep efficiency?\n",
    "\n"
   ]
  },
  {
   "cell_type": "markdown",
   "id": "b8bb10a851da103b",
   "metadata": {},
   "source": [
    "## 2. Data Understanding"
   ]
  },
  {
   "cell_type": "code",
   "execution_count": 49,
   "id": "initial_id",
   "metadata": {
    "ExecuteTime": {
     "end_time": "2023-10-18T10:03:35.041611Z",
     "start_time": "2023-10-18T10:03:34.986590Z"
    }
   },
   "outputs": [
    {
     "name": "stdout",
     "output_type": "stream",
     "text": [
      "df.shape = (452, 15)\n",
      "ID                          int64\n",
      "Age                         int64\n",
      "Gender                     object\n",
      "Bedtime                    object\n",
      "Wakeup_time                object\n",
      "Sleep_duration            float64\n",
      "Sleep_efficiency          float64\n",
      "REM_sleep_percentage        int64\n",
      "Deep_sleep_percentage       int64\n",
      "Light_sleep_percentage      int64\n",
      "Awakenings                float64\n",
      "Caffeine_consumption      float64\n",
      "Alcohol_consumption       float64\n",
      "Smoking_status             object\n",
      "Exercise_frequency        float64\n",
      "dtype: object\n"
     ]
    },
    {
     "data": {
      "text/html": [
       "<div>\n",
       "<style scoped>\n",
       "    .dataframe tbody tr th:only-of-type {\n",
       "        vertical-align: middle;\n",
       "    }\n",
       "\n",
       "    .dataframe tbody tr th {\n",
       "        vertical-align: top;\n",
       "    }\n",
       "\n",
       "    .dataframe thead th {\n",
       "        text-align: right;\n",
       "    }\n",
       "</style>\n",
       "<table border=\"1\" class=\"dataframe\">\n",
       "  <thead>\n",
       "    <tr style=\"text-align: right;\">\n",
       "      <th></th>\n",
       "      <th>ID</th>\n",
       "      <th>Age</th>\n",
       "      <th>Gender</th>\n",
       "      <th>Bedtime</th>\n",
       "      <th>Wakeup_time</th>\n",
       "      <th>Sleep_duration</th>\n",
       "      <th>Sleep_efficiency</th>\n",
       "      <th>REM_sleep_percentage</th>\n",
       "      <th>Deep_sleep_percentage</th>\n",
       "      <th>Light_sleep_percentage</th>\n",
       "      <th>Awakenings</th>\n",
       "      <th>Caffeine_consumption</th>\n",
       "      <th>Alcohol_consumption</th>\n",
       "      <th>Smoking_status</th>\n",
       "      <th>Exercise_frequency</th>\n",
       "    </tr>\n",
       "  </thead>\n",
       "  <tbody>\n",
       "    <tr>\n",
       "      <th>0</th>\n",
       "      <td>1</td>\n",
       "      <td>65</td>\n",
       "      <td>Female</td>\n",
       "      <td>2021-03-06 01:00:00</td>\n",
       "      <td>2021-03-06 07:00:00</td>\n",
       "      <td>6.0</td>\n",
       "      <td>0.88</td>\n",
       "      <td>18</td>\n",
       "      <td>70</td>\n",
       "      <td>12</td>\n",
       "      <td>0.0</td>\n",
       "      <td>0.0</td>\n",
       "      <td>0.0</td>\n",
       "      <td>Yes</td>\n",
       "      <td>3.0</td>\n",
       "    </tr>\n",
       "    <tr>\n",
       "      <th>1</th>\n",
       "      <td>2</td>\n",
       "      <td>69</td>\n",
       "      <td>Male</td>\n",
       "      <td>2021-12-05 02:00:00</td>\n",
       "      <td>2021-12-05 09:00:00</td>\n",
       "      <td>7.0</td>\n",
       "      <td>0.66</td>\n",
       "      <td>19</td>\n",
       "      <td>28</td>\n",
       "      <td>53</td>\n",
       "      <td>3.0</td>\n",
       "      <td>0.0</td>\n",
       "      <td>3.0</td>\n",
       "      <td>Yes</td>\n",
       "      <td>3.0</td>\n",
       "    </tr>\n",
       "    <tr>\n",
       "      <th>2</th>\n",
       "      <td>3</td>\n",
       "      <td>40</td>\n",
       "      <td>Female</td>\n",
       "      <td>2021-05-25 21:30:00</td>\n",
       "      <td>2021-05-25 05:30:00</td>\n",
       "      <td>8.0</td>\n",
       "      <td>0.89</td>\n",
       "      <td>20</td>\n",
       "      <td>70</td>\n",
       "      <td>10</td>\n",
       "      <td>1.0</td>\n",
       "      <td>0.0</td>\n",
       "      <td>0.0</td>\n",
       "      <td>No</td>\n",
       "      <td>3.0</td>\n",
       "    </tr>\n",
       "    <tr>\n",
       "      <th>3</th>\n",
       "      <td>4</td>\n",
       "      <td>40</td>\n",
       "      <td>Female</td>\n",
       "      <td>2021-11-03 02:30:00</td>\n",
       "      <td>2021-11-03 08:30:00</td>\n",
       "      <td>6.0</td>\n",
       "      <td>0.51</td>\n",
       "      <td>23</td>\n",
       "      <td>25</td>\n",
       "      <td>52</td>\n",
       "      <td>3.0</td>\n",
       "      <td>50.0</td>\n",
       "      <td>5.0</td>\n",
       "      <td>Yes</td>\n",
       "      <td>1.0</td>\n",
       "    </tr>\n",
       "    <tr>\n",
       "      <th>4</th>\n",
       "      <td>5</td>\n",
       "      <td>57</td>\n",
       "      <td>Male</td>\n",
       "      <td>2021-03-13 01:00:00</td>\n",
       "      <td>2021-03-13 09:00:00</td>\n",
       "      <td>8.0</td>\n",
       "      <td>0.76</td>\n",
       "      <td>27</td>\n",
       "      <td>55</td>\n",
       "      <td>18</td>\n",
       "      <td>3.0</td>\n",
       "      <td>0.0</td>\n",
       "      <td>3.0</td>\n",
       "      <td>No</td>\n",
       "      <td>3.0</td>\n",
       "    </tr>\n",
       "  </tbody>\n",
       "</table>\n",
       "</div>"
      ],
      "text/plain": [
       "   ID  Age  Gender              Bedtime          Wakeup_time  Sleep_duration  \\\n",
       "0   1   65  Female  2021-03-06 01:00:00  2021-03-06 07:00:00             6.0   \n",
       "1   2   69    Male  2021-12-05 02:00:00  2021-12-05 09:00:00             7.0   \n",
       "2   3   40  Female  2021-05-25 21:30:00  2021-05-25 05:30:00             8.0   \n",
       "3   4   40  Female  2021-11-03 02:30:00  2021-11-03 08:30:00             6.0   \n",
       "4   5   57    Male  2021-03-13 01:00:00  2021-03-13 09:00:00             8.0   \n",
       "\n",
       "   Sleep_efficiency  REM_sleep_percentage  Deep_sleep_percentage  \\\n",
       "0              0.88                    18                     70   \n",
       "1              0.66                    19                     28   \n",
       "2              0.89                    20                     70   \n",
       "3              0.51                    23                     25   \n",
       "4              0.76                    27                     55   \n",
       "\n",
       "   Light_sleep_percentage  Awakenings  Caffeine_consumption  \\\n",
       "0                      12         0.0                   0.0   \n",
       "1                      53         3.0                   0.0   \n",
       "2                      10         1.0                   0.0   \n",
       "3                      52         3.0                  50.0   \n",
       "4                      18         3.0                   0.0   \n",
       "\n",
       "   Alcohol_consumption Smoking_status  Exercise_frequency  \n",
       "0                  0.0            Yes                 3.0  \n",
       "1                  3.0            Yes                 3.0  \n",
       "2                  0.0             No                 3.0  \n",
       "3                  5.0            Yes                 1.0  \n",
       "4                  3.0             No                 3.0  "
      ]
     },
     "execution_count": 49,
     "metadata": {},
     "output_type": "execute_result"
    }
   ],
   "source": [
    "import numpy as np\n",
    "import pandas as pd\n",
    "import matplotlib.pyplot as plt\n",
    "import seaborn as sns\n",
    "from sklearn.linear_model import LinearRegression\n",
    "from sklearn.preprocessing import MinMaxScaler\n",
    "from sklearn.model_selection import train_test_split\n",
    "\n",
    "df = pd.read_csv(\"sleep-efficiency-data/Sleep_Efficiency.csv\")\n",
    "df.columns = df.columns.str.replace(\" \", \"_\")\n",
    "print(f\"{df.shape = }\")\n",
    "print(df.dtypes)\n",
    "df.head()"
   ]
  },
  {
   "cell_type": "code",
   "execution_count": 50,
   "id": "32c83cfaa4e522e1",
   "metadata": {
    "ExecuteTime": {
     "end_time": "2023-10-18T10:03:35.042215Z",
     "start_time": "2023-10-18T10:03:34.995329Z"
    }
   },
   "outputs": [],
   "source": [
    "# df = df[df[\"Deep_sleep_percentage\"] < 45.0]"
   ]
  },
  {
   "cell_type": "markdown",
   "id": "b1489565a92ac997",
   "metadata": {},
   "source": [
    "### 15 columns of which\n",
    "- 2 categorical\n",
    "- 2 timestamps\n",
    "- 11 numerical"
   ]
  },
  {
   "cell_type": "code",
   "execution_count": 51,
   "id": "7d6a11542220ac43",
   "metadata": {
    "ExecuteTime": {
     "end_time": "2023-10-18T10:03:35.051236Z",
     "start_time": "2023-10-18T10:03:34.997440Z"
    }
   },
   "outputs": [],
   "source": [
    "cols_categorical = [\"Gender\", \"Smoking_status\"]\n",
    "cols_datetime = [\"Bedtime\", \"Wakeup_time\"]\n",
    "cols_numeric = [col for col in df.columns.tolist() if col not in cols_categorical + cols_datetime]"
   ]
  },
  {
   "cell_type": "code",
   "execution_count": 52,
   "id": "17a145d6af45f087",
   "metadata": {
    "ExecuteTime": {
     "end_time": "2023-10-18T10:03:35.144492Z",
     "start_time": "2023-10-18T10:03:35.000364Z"
    }
   },
   "outputs": [
    {
     "data": {
      "text/plain": [
       "<AxesSubplot:xlabel='Gender,Smoking_status'>"
      ]
     },
     "execution_count": 52,
     "metadata": {},
     "output_type": "execute_result"
    },
    {
     "data": {
      "image/png": "[encoded data removed]",
      "text/plain": [
       "<Figure size 432x288 with 1 Axes>"
      ]
     },
     "metadata": {
      "needs_background": "light"
     },
     "output_type": "display_data"
    }
   ],
   "source": [
    "# Analyze categorical columns\n",
    "x = df[cols_categorical].value_counts(sort=False)\n",
    "x.plot(kind=\"bar\")"
   ]
  },
  {
   "cell_type": "code",
   "execution_count": 53,
   "id": "31b3579dcf6d9242",
   "metadata": {
    "ExecuteTime": {
     "end_time": "2023-10-18T10:03:35.452078Z",
     "start_time": "2023-10-18T10:03:35.081104Z"
    }
   },
   "outputs": [
    {
     "data": {
      "image/png": "[encoded data removed]",
      "text/plain": [
       "<Figure size 432x288 with 1 Axes>"
      ]
     },
     "metadata": {
      "needs_background": "light"
     },
     "output_type": "display_data"
    }
   ],
   "source": [
    "# Analyze datetime columns:\n",
    "ax = plt.subplot()\n",
    "for col in cols_datetime:\n",
    "    col_as_dt = pd.to_datetime(df[col])\n",
    "    hours = col_as_dt.dt.hour.values + col_as_dt.dt.minute.values / 60\n",
    "    ax.hist(hours, bins=4 * 24, label=col)\n",
    "    ax.set_xlabel(\"hour of day\")\n",
    "    ax.set_ylabel(\"absolute frequency\")\n",
    "    ax.legend()"
   ]
  },
  {
   "cell_type": "code",
   "execution_count": 54,
   "id": "3c154005aa783e42",
   "metadata": {
    "ExecuteTime": {
     "end_time": "2023-10-18T10:03:35.464201Z",
     "start_time": "2023-10-18T10:03:35.454949Z"
    }
   },
   "outputs": [
    {
     "data": {
      "text/html": [
       "<div>\n",
       "<style scoped>\n",
       "    .dataframe tbody tr th:only-of-type {\n",
       "        vertical-align: middle;\n",
       "    }\n",
       "\n",
       "    .dataframe tbody tr th {\n",
       "        vertical-align: top;\n",
       "    }\n",
       "\n",
       "    .dataframe thead th {\n",
       "        text-align: right;\n",
       "    }\n",
       "</style>\n",
       "<table border=\"1\" class=\"dataframe\">\n",
       "  <thead>\n",
       "    <tr style=\"text-align: right;\">\n",
       "      <th></th>\n",
       "      <th>ID</th>\n",
       "      <th>Age</th>\n",
       "      <th>Sleep_duration</th>\n",
       "      <th>Sleep_efficiency</th>\n",
       "      <th>REM_sleep_percentage</th>\n",
       "      <th>Deep_sleep_percentage</th>\n",
       "      <th>Light_sleep_percentage</th>\n",
       "      <th>Awakenings</th>\n",
       "      <th>Caffeine_consumption</th>\n",
       "      <th>Alcohol_consumption</th>\n",
       "      <th>Exercise_frequency</th>\n",
       "    </tr>\n",
       "  </thead>\n",
       "  <tbody>\n",
       "    <tr>\n",
       "      <th>count</th>\n",
       "      <td>452.000000</td>\n",
       "      <td>452.000000</td>\n",
       "      <td>452.000000</td>\n",
       "      <td>452.000000</td>\n",
       "      <td>452.000000</td>\n",
       "      <td>452.000000</td>\n",
       "      <td>452.000000</td>\n",
       "      <td>432.000000</td>\n",
       "      <td>427.000000</td>\n",
       "      <td>438.000000</td>\n",
       "      <td>446.000000</td>\n",
       "    </tr>\n",
       "    <tr>\n",
       "      <th>mean</th>\n",
       "      <td>226.500000</td>\n",
       "      <td>40.285398</td>\n",
       "      <td>7.465708</td>\n",
       "      <td>0.788916</td>\n",
       "      <td>22.615044</td>\n",
       "      <td>52.823009</td>\n",
       "      <td>24.561947</td>\n",
       "      <td>1.641204</td>\n",
       "      <td>23.653396</td>\n",
       "      <td>1.173516</td>\n",
       "      <td>1.791480</td>\n",
       "    </tr>\n",
       "    <tr>\n",
       "      <th>std</th>\n",
       "      <td>130.625419</td>\n",
       "      <td>13.172250</td>\n",
       "      <td>0.866625</td>\n",
       "      <td>0.135237</td>\n",
       "      <td>3.525963</td>\n",
       "      <td>15.654235</td>\n",
       "      <td>15.313665</td>\n",
       "      <td>1.356762</td>\n",
       "      <td>30.202785</td>\n",
       "      <td>1.621377</td>\n",
       "      <td>1.428134</td>\n",
       "    </tr>\n",
       "    <tr>\n",
       "      <th>min</th>\n",
       "      <td>1.000000</td>\n",
       "      <td>9.000000</td>\n",
       "      <td>5.000000</td>\n",
       "      <td>0.500000</td>\n",
       "      <td>15.000000</td>\n",
       "      <td>18.000000</td>\n",
       "      <td>7.000000</td>\n",
       "      <td>0.000000</td>\n",
       "      <td>0.000000</td>\n",
       "      <td>0.000000</td>\n",
       "      <td>0.000000</td>\n",
       "    </tr>\n",
       "    <tr>\n",
       "      <th>25%</th>\n",
       "      <td>113.750000</td>\n",
       "      <td>29.000000</td>\n",
       "      <td>7.000000</td>\n",
       "      <td>0.697500</td>\n",
       "      <td>20.000000</td>\n",
       "      <td>48.250000</td>\n",
       "      <td>15.000000</td>\n",
       "      <td>1.000000</td>\n",
       "      <td>0.000000</td>\n",
       "      <td>0.000000</td>\n",
       "      <td>0.000000</td>\n",
       "    </tr>\n",
       "    <tr>\n",
       "      <th>50%</th>\n",
       "      <td>226.500000</td>\n",
       "      <td>40.000000</td>\n",
       "      <td>7.500000</td>\n",
       "      <td>0.820000</td>\n",
       "      <td>22.000000</td>\n",
       "      <td>58.000000</td>\n",
       "      <td>18.000000</td>\n",
       "      <td>1.000000</td>\n",
       "      <td>25.000000</td>\n",
       "      <td>0.000000</td>\n",
       "      <td>2.000000</td>\n",
       "    </tr>\n",
       "    <tr>\n",
       "      <th>75%</th>\n",
       "      <td>339.250000</td>\n",
       "      <td>52.000000</td>\n",
       "      <td>8.000000</td>\n",
       "      <td>0.900000</td>\n",
       "      <td>25.000000</td>\n",
       "      <td>63.000000</td>\n",
       "      <td>32.500000</td>\n",
       "      <td>3.000000</td>\n",
       "      <td>50.000000</td>\n",
       "      <td>2.000000</td>\n",
       "      <td>3.000000</td>\n",
       "    </tr>\n",
       "    <tr>\n",
       "      <th>max</th>\n",
       "      <td>452.000000</td>\n",
       "      <td>69.000000</td>\n",
       "      <td>10.000000</td>\n",
       "      <td>0.990000</td>\n",
       "      <td>30.000000</td>\n",
       "      <td>75.000000</td>\n",
       "      <td>63.000000</td>\n",
       "      <td>4.000000</td>\n",
       "      <td>200.000000</td>\n",
       "      <td>5.000000</td>\n",
       "      <td>5.000000</td>\n",
       "    </tr>\n",
       "  </tbody>\n",
       "</table>\n",
       "</div>"
      ],
      "text/plain": [
       "               ID         Age  Sleep_duration  Sleep_efficiency  \\\n",
       "count  452.000000  452.000000      452.000000        452.000000   \n",
       "mean   226.500000   40.285398        7.465708          0.788916   \n",
       "std    130.625419   13.172250        0.866625          0.135237   \n",
       "min      1.000000    9.000000        5.000000          0.500000   \n",
       "25%    113.750000   29.000000        7.000000          0.697500   \n",
       "50%    226.500000   40.000000        7.500000          0.820000   \n",
       "75%    339.250000   52.000000        8.000000          0.900000   \n",
       "max    452.000000   69.000000       10.000000          0.990000   \n",
       "\n",
       "       REM_sleep_percentage  Deep_sleep_percentage  Light_sleep_percentage  \\\n",
       "count            452.000000             452.000000              452.000000   \n",
       "mean              22.615044              52.823009               24.561947   \n",
       "std                3.525963              15.654235               15.313665   \n",
       "min               15.000000              18.000000                7.000000   \n",
       "25%               20.000000              48.250000               15.000000   \n",
       "50%               22.000000              58.000000               18.000000   \n",
       "75%               25.000000              63.000000               32.500000   \n",
       "max               30.000000              75.000000               63.000000   \n",
       "\n",
       "       Awakenings  Caffeine_consumption  Alcohol_consumption  \\\n",
       "count  432.000000            427.000000           438.000000   \n",
       "mean     1.641204             23.653396             1.173516   \n",
       "std      1.356762             30.202785             1.621377   \n",
       "min      0.000000              0.000000             0.000000   \n",
       "25%      1.000000              0.000000             0.000000   \n",
       "50%      1.000000             25.000000             0.000000   \n",
       "75%      3.000000             50.000000             2.000000   \n",
       "max      4.000000            200.000000             5.000000   \n",
       "\n",
       "       Exercise_frequency  \n",
       "count          446.000000  \n",
       "mean             1.791480  \n",
       "std              1.428134  \n",
       "min              0.000000  \n",
       "25%              0.000000  \n",
       "50%              2.000000  \n",
       "75%              3.000000  \n",
       "max              5.000000  "
      ]
     },
     "execution_count": 54,
     "metadata": {},
     "output_type": "execute_result"
    }
   ],
   "source": [
    "# 11 numeric columns:\n",
    "df[cols_numeric].describe()"
   ]
  },
  {
   "cell_type": "code",
   "execution_count": 55,
   "id": "13b2d453e9b40e4f",
   "metadata": {
    "ExecuteTime": {
     "end_time": "2023-10-18T10:03:36.315755Z",
     "start_time": "2023-10-18T10:03:35.465181Z"
    }
   },
   "outputs": [
    {
     "data": {
      "image/png": "[encoded data removed]",
      "text/plain": [
       "<Figure size 720x720 with 12 Axes>"
      ]
     },
     "metadata": {
      "needs_background": "light"
     },
     "output_type": "display_data"
    }
   ],
   "source": [
    "df[cols_numeric].hist(bins=20, figsize=(10, 10))\n",
    "plt.tight_layout()"
   ]
  },
  {
   "cell_type": "markdown",
   "id": "8c3e5030a76f09bd",
   "metadata": {},
   "source": [
    "### Observations:\n",
    "- Data looks rather clean and plausible\n",
    "- No obvious outliers\n",
    "- ID irrelevant\n",
    "- Two interesting clusters regarding deep & light sleep\n",
    "- Bedtime (from 21:00 to 2:30) and Wakeup_time (from 3:00 to 12:30) \n",
    "    - only time is interesting (date does not matter)\n",
    "    - need special handling "
   ]
  },
  {
   "cell_type": "markdown",
   "id": "592372b543df4d85",
   "metadata": {},
   "source": [
    "## 3. Data Preparation"
   ]
  },
  {
   "cell_type": "code",
   "execution_count": 56,
   "id": "301a6c30b03fe838",
   "metadata": {
    "ExecuteTime": {
     "end_time": "2023-10-18T10:03:36.318424Z",
     "start_time": "2023-10-18T10:03:36.316158Z"
    }
   },
   "outputs": [],
   "source": [
    "df_clean = df.copy(deep=True)"
   ]
  },
  {
   "cell_type": "markdown",
   "id": "7da43cdc9d07a93d",
   "metadata": {},
   "source": [
    "### Handle categorical columns:"
   ]
  },
  {
   "cell_type": "code",
   "execution_count": 57,
   "id": "5e4371ef9c145768",
   "metadata": {
    "ExecuteTime": {
     "end_time": "2023-10-18T10:03:36.322436Z",
     "start_time": "2023-10-18T10:03:36.320229Z"
    }
   },
   "outputs": [],
   "source": [
    "# It seems to be fine to create dummy variables because we have at least 61 samples per combination\n",
    "cat_dummies = pd.get_dummies(data=df_clean[cols_categorical], dtype=float)\n",
    "df_clean = df_clean.drop(columns=cols_categorical)\n",
    "df_clean = pd.concat([df_clean, cat_dummies], axis=\"columns\")"
   ]
  },
  {
   "cell_type": "code",
   "execution_count": 58,
   "id": "1ff38cc24df6e14c",
   "metadata": {
    "ExecuteTime": {
     "end_time": "2023-10-18T10:03:36.468006Z",
     "start_time": "2023-10-18T10:03:36.370722Z"
    }
   },
   "outputs": [
    {
     "data": {
      "text/html": [
       "<div>\n",
       "<style scoped>\n",
       "    .dataframe tbody tr th:only-of-type {\n",
       "        vertical-align: middle;\n",
       "    }\n",
       "\n",
       "    .dataframe tbody tr th {\n",
       "        vertical-align: top;\n",
       "    }\n",
       "\n",
       "    .dataframe thead th {\n",
       "        text-align: right;\n",
       "    }\n",
       "</style>\n",
       "<table border=\"1\" class=\"dataframe\">\n",
       "  <thead>\n",
       "    <tr style=\"text-align: right;\">\n",
       "      <th></th>\n",
       "      <th>ID</th>\n",
       "      <th>Age</th>\n",
       "      <th>Bedtime</th>\n",
       "      <th>Wakeup_time</th>\n",
       "      <th>Sleep_duration</th>\n",
       "      <th>Sleep_efficiency</th>\n",
       "      <th>REM_sleep_percentage</th>\n",
       "      <th>Deep_sleep_percentage</th>\n",
       "      <th>Light_sleep_percentage</th>\n",
       "      <th>Awakenings</th>\n",
       "      <th>Caffeine_consumption</th>\n",
       "      <th>Alcohol_consumption</th>\n",
       "      <th>Exercise_frequency</th>\n",
       "      <th>Gender_Female</th>\n",
       "      <th>Gender_Male</th>\n",
       "      <th>Smoking_status_No</th>\n",
       "      <th>Smoking_status_Yes</th>\n",
       "    </tr>\n",
       "  </thead>\n",
       "  <tbody>\n",
       "    <tr>\n",
       "      <th>0</th>\n",
       "      <td>1</td>\n",
       "      <td>65</td>\n",
       "      <td>2021-03-06 01:00:00</td>\n",
       "      <td>2021-03-06 07:00:00</td>\n",
       "      <td>6.0</td>\n",
       "      <td>0.88</td>\n",
       "      <td>18</td>\n",
       "      <td>70</td>\n",
       "      <td>12</td>\n",
       "      <td>0.0</td>\n",
       "      <td>0.0</td>\n",
       "      <td>0.0</td>\n",
       "      <td>3.0</td>\n",
       "      <td>1.0</td>\n",
       "      <td>0.0</td>\n",
       "      <td>0.0</td>\n",
       "      <td>1.0</td>\n",
       "    </tr>\n",
       "    <tr>\n",
       "      <th>1</th>\n",
       "      <td>2</td>\n",
       "      <td>69</td>\n",
       "      <td>2021-12-05 02:00:00</td>\n",
       "      <td>2021-12-05 09:00:00</td>\n",
       "      <td>7.0</td>\n",
       "      <td>0.66</td>\n",
       "      <td>19</td>\n",
       "      <td>28</td>\n",
       "      <td>53</td>\n",
       "      <td>3.0</td>\n",
       "      <td>0.0</td>\n",
       "      <td>3.0</td>\n",
       "      <td>3.0</td>\n",
       "      <td>0.0</td>\n",
       "      <td>1.0</td>\n",
       "      <td>0.0</td>\n",
       "      <td>1.0</td>\n",
       "    </tr>\n",
       "    <tr>\n",
       "      <th>2</th>\n",
       "      <td>3</td>\n",
       "      <td>40</td>\n",
       "      <td>2021-05-25 21:30:00</td>\n",
       "      <td>2021-05-25 05:30:00</td>\n",
       "      <td>8.0</td>\n",
       "      <td>0.89</td>\n",
       "      <td>20</td>\n",
       "      <td>70</td>\n",
       "      <td>10</td>\n",
       "      <td>1.0</td>\n",
       "      <td>0.0</td>\n",
       "      <td>0.0</td>\n",
       "      <td>3.0</td>\n",
       "      <td>1.0</td>\n",
       "      <td>0.0</td>\n",
       "      <td>1.0</td>\n",
       "      <td>0.0</td>\n",
       "    </tr>\n",
       "    <tr>\n",
       "      <th>3</th>\n",
       "      <td>4</td>\n",
       "      <td>40</td>\n",
       "      <td>2021-11-03 02:30:00</td>\n",
       "      <td>2021-11-03 08:30:00</td>\n",
       "      <td>6.0</td>\n",
       "      <td>0.51</td>\n",
       "      <td>23</td>\n",
       "      <td>25</td>\n",
       "      <td>52</td>\n",
       "      <td>3.0</td>\n",
       "      <td>50.0</td>\n",
       "      <td>5.0</td>\n",
       "      <td>1.0</td>\n",
       "      <td>1.0</td>\n",
       "      <td>0.0</td>\n",
       "      <td>0.0</td>\n",
       "      <td>1.0</td>\n",
       "    </tr>\n",
       "    <tr>\n",
       "      <th>4</th>\n",
       "      <td>5</td>\n",
       "      <td>57</td>\n",
       "      <td>2021-03-13 01:00:00</td>\n",
       "      <td>2021-03-13 09:00:00</td>\n",
       "      <td>8.0</td>\n",
       "      <td>0.76</td>\n",
       "      <td>27</td>\n",
       "      <td>55</td>\n",
       "      <td>18</td>\n",
       "      <td>3.0</td>\n",
       "      <td>0.0</td>\n",
       "      <td>3.0</td>\n",
       "      <td>3.0</td>\n",
       "      <td>0.0</td>\n",
       "      <td>1.0</td>\n",
       "      <td>1.0</td>\n",
       "      <td>0.0</td>\n",
       "    </tr>\n",
       "  </tbody>\n",
       "</table>\n",
       "</div>"
      ],
      "text/plain": [
       "   ID  Age              Bedtime          Wakeup_time  Sleep_duration  \\\n",
       "0   1   65  2021-03-06 01:00:00  2021-03-06 07:00:00             6.0   \n",
       "1   2   69  2021-12-05 02:00:00  2021-12-05 09:00:00             7.0   \n",
       "2   3   40  2021-05-25 21:30:00  2021-05-25 05:30:00             8.0   \n",
       "3   4   40  2021-11-03 02:30:00  2021-11-03 08:30:00             6.0   \n",
       "4   5   57  2021-03-13 01:00:00  2021-03-13 09:00:00             8.0   \n",
       "\n",
       "   Sleep_efficiency  REM_sleep_percentage  Deep_sleep_percentage  \\\n",
       "0              0.88                    18                     70   \n",
       "1              0.66                    19                     28   \n",
       "2              0.89                    20                     70   \n",
       "3              0.51                    23                     25   \n",
       "4              0.76                    27                     55   \n",
       "\n",
       "   Light_sleep_percentage  Awakenings  Caffeine_consumption  \\\n",
       "0                      12         0.0                   0.0   \n",
       "1                      53         3.0                   0.0   \n",
       "2                      10         1.0                   0.0   \n",
       "3                      52         3.0                  50.0   \n",
       "4                      18         3.0                   0.0   \n",
       "\n",
       "   Alcohol_consumption  Exercise_frequency  Gender_Female  Gender_Male  \\\n",
       "0                  0.0                 3.0            1.0          0.0   \n",
       "1                  3.0                 3.0            0.0          1.0   \n",
       "2                  0.0                 3.0            1.0          0.0   \n",
       "3                  5.0                 1.0            1.0          0.0   \n",
       "4                  3.0                 3.0            0.0          1.0   \n",
       "\n",
       "   Smoking_status_No  Smoking_status_Yes  \n",
       "0                0.0                 1.0  \n",
       "1                0.0                 1.0  \n",
       "2                1.0                 0.0  \n",
       "3                0.0                 1.0  \n",
       "4                1.0                 0.0  "
      ]
     },
     "execution_count": 58,
     "metadata": {},
     "output_type": "execute_result"
    }
   ],
   "source": [
    "df_clean.head()"
   ]
  },
  {
   "cell_type": "markdown",
   "id": "5e4df37fa6e1f94a",
   "metadata": {},
   "source": [
    "### Handle timestamp columns:"
   ]
  },
  {
   "cell_type": "code",
   "execution_count": 59,
   "id": "800c03b187634597",
   "metadata": {
    "ExecuteTime": {
     "end_time": "2023-10-18T10:03:36.468126Z",
     "start_time": "2023-10-18T10:03:36.370906Z"
    }
   },
   "outputs": [],
   "source": [
    "def convert_timestamp_to_hours_after_midnight(timestamp):\n",
    "    \"\"\"\n",
    "    Convert a pandas Timestamp to its equivalent hours after midnight.\n",
    "    Times between 00:00 and 18:00 (morning + daytime) are represented by positive values from 0.0 to 18\n",
    "    Times between 18:00 and 00:00 (evening) are represented by negative values from -6.0 to 0.0\n",
    "\n",
    "    Examples:\n",
    "        timestamp = Timestamp('2021-03-06 01:00:00') --> hours_after_midnight = 1.0\n",
    "        timestamp = Timestamp('2022-01-03 21:30:00') --> hours_after_midnight = -2.5\n",
    "\n",
    "    Parameters\n",
    "    ----------\n",
    "    timestamp: pd.Timestamp\n",
    "        given timestamp\n",
    "\n",
    "\n",
    "    Returns\n",
    "    -------\n",
    "    float:\n",
    "        representation of given timestamp in hours after/before midnight\n",
    "\n",
    "    \"\"\"\n",
    "    hours_after_midnight = timestamp.hour + timestamp.minute / 60\n",
    "    if hours_after_midnight > 18:\n",
    "        hours_after_midnight -= 24\n",
    "    return hours_after_midnight"
   ]
  },
  {
   "cell_type": "code",
   "execution_count": 60,
   "id": "55685b7618be7c77",
   "metadata": {
    "ExecuteTime": {
     "end_time": "2023-10-18T10:03:36.468163Z",
     "start_time": "2023-10-18T10:03:36.370931Z"
    }
   },
   "outputs": [],
   "source": [
    "for col in cols_datetime:\n",
    "    df_clean[col] = pd.to_datetime(df_clean[col])\n",
    "    df_clean[col] = df_clean[col].apply(convert_timestamp_to_hours_after_midnight)"
   ]
  },
  {
   "cell_type": "code",
   "execution_count": 61,
   "id": "3d76bc75c822e8dd",
   "metadata": {
    "ExecuteTime": {
     "end_time": "2023-10-18T10:03:36.468348Z",
     "start_time": "2023-10-18T10:03:36.370953Z"
    }
   },
   "outputs": [
    {
     "data": {
      "text/html": [
       "<div>\n",
       "<style scoped>\n",
       "    .dataframe tbody tr th:only-of-type {\n",
       "        vertical-align: middle;\n",
       "    }\n",
       "\n",
       "    .dataframe tbody tr th {\n",
       "        vertical-align: top;\n",
       "    }\n",
       "\n",
       "    .dataframe thead th {\n",
       "        text-align: right;\n",
       "    }\n",
       "</style>\n",
       "<table border=\"1\" class=\"dataframe\">\n",
       "  <thead>\n",
       "    <tr style=\"text-align: right;\">\n",
       "      <th></th>\n",
       "      <th>ID</th>\n",
       "      <th>Age</th>\n",
       "      <th>Bedtime</th>\n",
       "      <th>Wakeup_time</th>\n",
       "      <th>Sleep_duration</th>\n",
       "      <th>Sleep_efficiency</th>\n",
       "      <th>REM_sleep_percentage</th>\n",
       "      <th>Deep_sleep_percentage</th>\n",
       "      <th>Light_sleep_percentage</th>\n",
       "      <th>Awakenings</th>\n",
       "      <th>Caffeine_consumption</th>\n",
       "      <th>Alcohol_consumption</th>\n",
       "      <th>Exercise_frequency</th>\n",
       "      <th>Gender_Female</th>\n",
       "      <th>Gender_Male</th>\n",
       "      <th>Smoking_status_No</th>\n",
       "      <th>Smoking_status_Yes</th>\n",
       "    </tr>\n",
       "  </thead>\n",
       "  <tbody>\n",
       "    <tr>\n",
       "      <th>0</th>\n",
       "      <td>1</td>\n",
       "      <td>65</td>\n",
       "      <td>1.0</td>\n",
       "      <td>7.0</td>\n",
       "      <td>6.0</td>\n",
       "      <td>0.88</td>\n",
       "      <td>18</td>\n",
       "      <td>70</td>\n",
       "      <td>12</td>\n",
       "      <td>0.0</td>\n",
       "      <td>0.0</td>\n",
       "      <td>0.0</td>\n",
       "      <td>3.0</td>\n",
       "      <td>1.0</td>\n",
       "      <td>0.0</td>\n",
       "      <td>0.0</td>\n",
       "      <td>1.0</td>\n",
       "    </tr>\n",
       "    <tr>\n",
       "      <th>1</th>\n",
       "      <td>2</td>\n",
       "      <td>69</td>\n",
       "      <td>2.0</td>\n",
       "      <td>9.0</td>\n",
       "      <td>7.0</td>\n",
       "      <td>0.66</td>\n",
       "      <td>19</td>\n",
       "      <td>28</td>\n",
       "      <td>53</td>\n",
       "      <td>3.0</td>\n",
       "      <td>0.0</td>\n",
       "      <td>3.0</td>\n",
       "      <td>3.0</td>\n",
       "      <td>0.0</td>\n",
       "      <td>1.0</td>\n",
       "      <td>0.0</td>\n",
       "      <td>1.0</td>\n",
       "    </tr>\n",
       "    <tr>\n",
       "      <th>2</th>\n",
       "      <td>3</td>\n",
       "      <td>40</td>\n",
       "      <td>-2.5</td>\n",
       "      <td>5.5</td>\n",
       "      <td>8.0</td>\n",
       "      <td>0.89</td>\n",
       "      <td>20</td>\n",
       "      <td>70</td>\n",
       "      <td>10</td>\n",
       "      <td>1.0</td>\n",
       "      <td>0.0</td>\n",
       "      <td>0.0</td>\n",
       "      <td>3.0</td>\n",
       "      <td>1.0</td>\n",
       "      <td>0.0</td>\n",
       "      <td>1.0</td>\n",
       "      <td>0.0</td>\n",
       "    </tr>\n",
       "    <tr>\n",
       "      <th>3</th>\n",
       "      <td>4</td>\n",
       "      <td>40</td>\n",
       "      <td>2.5</td>\n",
       "      <td>8.5</td>\n",
       "      <td>6.0</td>\n",
       "      <td>0.51</td>\n",
       "      <td>23</td>\n",
       "      <td>25</td>\n",
       "      <td>52</td>\n",
       "      <td>3.0</td>\n",
       "      <td>50.0</td>\n",
       "      <td>5.0</td>\n",
       "      <td>1.0</td>\n",
       "      <td>1.0</td>\n",
       "      <td>0.0</td>\n",
       "      <td>0.0</td>\n",
       "      <td>1.0</td>\n",
       "    </tr>\n",
       "    <tr>\n",
       "      <th>4</th>\n",
       "      <td>5</td>\n",
       "      <td>57</td>\n",
       "      <td>1.0</td>\n",
       "      <td>9.0</td>\n",
       "      <td>8.0</td>\n",
       "      <td>0.76</td>\n",
       "      <td>27</td>\n",
       "      <td>55</td>\n",
       "      <td>18</td>\n",
       "      <td>3.0</td>\n",
       "      <td>0.0</td>\n",
       "      <td>3.0</td>\n",
       "      <td>3.0</td>\n",
       "      <td>0.0</td>\n",
       "      <td>1.0</td>\n",
       "      <td>1.0</td>\n",
       "      <td>0.0</td>\n",
       "    </tr>\n",
       "  </tbody>\n",
       "</table>\n",
       "</div>"
      ],
      "text/plain": [
       "   ID  Age  Bedtime  Wakeup_time  Sleep_duration  Sleep_efficiency  \\\n",
       "0   1   65      1.0          7.0             6.0              0.88   \n",
       "1   2   69      2.0          9.0             7.0              0.66   \n",
       "2   3   40     -2.5          5.5             8.0              0.89   \n",
       "3   4   40      2.5          8.5             6.0              0.51   \n",
       "4   5   57      1.0          9.0             8.0              0.76   \n",
       "\n",
       "   REM_sleep_percentage  Deep_sleep_percentage  Light_sleep_percentage  \\\n",
       "0                    18                     70                      12   \n",
       "1                    19                     28                      53   \n",
       "2                    20                     70                      10   \n",
       "3                    23                     25                      52   \n",
       "4                    27                     55                      18   \n",
       "\n",
       "   Awakenings  Caffeine_consumption  Alcohol_consumption  Exercise_frequency  \\\n",
       "0         0.0                   0.0                  0.0                 3.0   \n",
       "1         3.0                   0.0                  3.0                 3.0   \n",
       "2         1.0                   0.0                  0.0                 3.0   \n",
       "3         3.0                  50.0                  5.0                 1.0   \n",
       "4         3.0                   0.0                  3.0                 3.0   \n",
       "\n",
       "   Gender_Female  Gender_Male  Smoking_status_No  Smoking_status_Yes  \n",
       "0            1.0          0.0                0.0                 1.0  \n",
       "1            0.0          1.0                0.0                 1.0  \n",
       "2            1.0          0.0                1.0                 0.0  \n",
       "3            1.0          0.0                0.0                 1.0  \n",
       "4            0.0          1.0                1.0                 0.0  "
      ]
     },
     "execution_count": 61,
     "metadata": {},
     "output_type": "execute_result"
    }
   ],
   "source": [
    "df_clean.head()"
   ]
  },
  {
   "cell_type": "code",
   "execution_count": 62,
   "id": "f2061dea33a3ab78",
   "metadata": {
    "ExecuteTime": {
     "end_time": "2023-10-18T10:03:36.468433Z",
     "start_time": "2023-10-18T10:03:36.374797Z"
    }
   },
   "outputs": [],
   "source": [
    "assert all(df_clean[\"Wakeup_time\"] - df_clean[\"Bedtime\"] - df_clean[\"Sleep_duration\"] == 0)"
   ]
  },
  {
   "cell_type": "code",
   "execution_count": 63,
   "id": "9bdb222e41fbde02",
   "metadata": {
    "ExecuteTime": {
     "end_time": "2023-10-18T10:03:36.468772Z",
     "start_time": "2023-10-18T10:03:36.379409Z"
    }
   },
   "outputs": [
    {
     "data": {
      "text/html": [
       "<div>\n",
       "<style scoped>\n",
       "    .dataframe tbody tr th:only-of-type {\n",
       "        vertical-align: middle;\n",
       "    }\n",
       "\n",
       "    .dataframe tbody tr th {\n",
       "        vertical-align: top;\n",
       "    }\n",
       "\n",
       "    .dataframe thead th {\n",
       "        text-align: right;\n",
       "    }\n",
       "</style>\n",
       "<table border=\"1\" class=\"dataframe\">\n",
       "  <thead>\n",
       "    <tr style=\"text-align: right;\">\n",
       "      <th></th>\n",
       "      <th>ID</th>\n",
       "      <th>Age</th>\n",
       "      <th>Bedtime</th>\n",
       "      <th>Wakeup_time</th>\n",
       "      <th>Sleep_duration</th>\n",
       "      <th>Sleep_efficiency</th>\n",
       "      <th>REM_sleep_percentage</th>\n",
       "      <th>Deep_sleep_percentage</th>\n",
       "      <th>Light_sleep_percentage</th>\n",
       "      <th>Awakenings</th>\n",
       "      <th>Caffeine_consumption</th>\n",
       "      <th>Alcohol_consumption</th>\n",
       "      <th>Exercise_frequency</th>\n",
       "      <th>Gender_Female</th>\n",
       "      <th>Gender_Male</th>\n",
       "      <th>Smoking_status_No</th>\n",
       "      <th>Smoking_status_Yes</th>\n",
       "    </tr>\n",
       "  </thead>\n",
       "  <tbody>\n",
       "    <tr>\n",
       "      <th>count</th>\n",
       "      <td>452.000000</td>\n",
       "      <td>452.000000</td>\n",
       "      <td>452.000000</td>\n",
       "      <td>452.000000</td>\n",
       "      <td>452.000000</td>\n",
       "      <td>452.000000</td>\n",
       "      <td>452.000000</td>\n",
       "      <td>452.000000</td>\n",
       "      <td>452.000000</td>\n",
       "      <td>432.000000</td>\n",
       "      <td>427.000000</td>\n",
       "      <td>438.000000</td>\n",
       "      <td>446.000000</td>\n",
       "      <td>452.000000</td>\n",
       "      <td>452.000000</td>\n",
       "      <td>452.000000</td>\n",
       "      <td>452.000000</td>\n",
       "    </tr>\n",
       "    <tr>\n",
       "      <th>mean</th>\n",
       "      <td>226.500000</td>\n",
       "      <td>40.285398</td>\n",
       "      <td>-0.363938</td>\n",
       "      <td>7.101770</td>\n",
       "      <td>7.465708</td>\n",
       "      <td>0.788916</td>\n",
       "      <td>22.615044</td>\n",
       "      <td>52.823009</td>\n",
       "      <td>24.561947</td>\n",
       "      <td>1.641204</td>\n",
       "      <td>23.653396</td>\n",
       "      <td>1.173516</td>\n",
       "      <td>1.791480</td>\n",
       "      <td>0.495575</td>\n",
       "      <td>0.504425</td>\n",
       "      <td>0.659292</td>\n",
       "      <td>0.340708</td>\n",
       "    </tr>\n",
       "    <tr>\n",
       "      <th>std</th>\n",
       "      <td>130.625419</td>\n",
       "      <td>13.172250</td>\n",
       "      <td>1.687559</td>\n",
       "      <td>1.955899</td>\n",
       "      <td>0.866625</td>\n",
       "      <td>0.135237</td>\n",
       "      <td>3.525963</td>\n",
       "      <td>15.654235</td>\n",
       "      <td>15.313665</td>\n",
       "      <td>1.356762</td>\n",
       "      <td>30.202785</td>\n",
       "      <td>1.621377</td>\n",
       "      <td>1.428134</td>\n",
       "      <td>0.500534</td>\n",
       "      <td>0.500534</td>\n",
       "      <td>0.474472</td>\n",
       "      <td>0.474472</td>\n",
       "    </tr>\n",
       "    <tr>\n",
       "      <th>min</th>\n",
       "      <td>1.000000</td>\n",
       "      <td>9.000000</td>\n",
       "      <td>-3.000000</td>\n",
       "      <td>3.000000</td>\n",
       "      <td>5.000000</td>\n",
       "      <td>0.500000</td>\n",
       "      <td>15.000000</td>\n",
       "      <td>18.000000</td>\n",
       "      <td>7.000000</td>\n",
       "      <td>0.000000</td>\n",
       "      <td>0.000000</td>\n",
       "      <td>0.000000</td>\n",
       "      <td>0.000000</td>\n",
       "      <td>0.000000</td>\n",
       "      <td>0.000000</td>\n",
       "      <td>0.000000</td>\n",
       "      <td>0.000000</td>\n",
       "    </tr>\n",
       "    <tr>\n",
       "      <th>25%</th>\n",
       "      <td>113.750000</td>\n",
       "      <td>29.000000</td>\n",
       "      <td>-2.000000</td>\n",
       "      <td>5.500000</td>\n",
       "      <td>7.000000</td>\n",
       "      <td>0.697500</td>\n",
       "      <td>20.000000</td>\n",
       "      <td>48.250000</td>\n",
       "      <td>15.000000</td>\n",
       "      <td>1.000000</td>\n",
       "      <td>0.000000</td>\n",
       "      <td>0.000000</td>\n",
       "      <td>0.000000</td>\n",
       "      <td>0.000000</td>\n",
       "      <td>0.000000</td>\n",
       "      <td>0.000000</td>\n",
       "      <td>0.000000</td>\n",
       "    </tr>\n",
       "    <tr>\n",
       "      <th>50%</th>\n",
       "      <td>226.500000</td>\n",
       "      <td>40.000000</td>\n",
       "      <td>0.000000</td>\n",
       "      <td>7.000000</td>\n",
       "      <td>7.500000</td>\n",
       "      <td>0.820000</td>\n",
       "      <td>22.000000</td>\n",
       "      <td>58.000000</td>\n",
       "      <td>18.000000</td>\n",
       "      <td>1.000000</td>\n",
       "      <td>25.000000</td>\n",
       "      <td>0.000000</td>\n",
       "      <td>2.000000</td>\n",
       "      <td>0.000000</td>\n",
       "      <td>1.000000</td>\n",
       "      <td>1.000000</td>\n",
       "      <td>0.000000</td>\n",
       "    </tr>\n",
       "    <tr>\n",
       "      <th>75%</th>\n",
       "      <td>339.250000</td>\n",
       "      <td>52.000000</td>\n",
       "      <td>1.000000</td>\n",
       "      <td>9.000000</td>\n",
       "      <td>8.000000</td>\n",
       "      <td>0.900000</td>\n",
       "      <td>25.000000</td>\n",
       "      <td>63.000000</td>\n",
       "      <td>32.500000</td>\n",
       "      <td>3.000000</td>\n",
       "      <td>50.000000</td>\n",
       "      <td>2.000000</td>\n",
       "      <td>3.000000</td>\n",
       "      <td>1.000000</td>\n",
       "      <td>1.000000</td>\n",
       "      <td>1.000000</td>\n",
       "      <td>1.000000</td>\n",
       "    </tr>\n",
       "    <tr>\n",
       "      <th>max</th>\n",
       "      <td>452.000000</td>\n",
       "      <td>69.000000</td>\n",
       "      <td>2.500000</td>\n",
       "      <td>12.500000</td>\n",
       "      <td>10.000000</td>\n",
       "      <td>0.990000</td>\n",
       "      <td>30.000000</td>\n",
       "      <td>75.000000</td>\n",
       "      <td>63.000000</td>\n",
       "      <td>4.000000</td>\n",
       "      <td>200.000000</td>\n",
       "      <td>5.000000</td>\n",
       "      <td>5.000000</td>\n",
       "      <td>1.000000</td>\n",
       "      <td>1.000000</td>\n",
       "      <td>1.000000</td>\n",
       "      <td>1.000000</td>\n",
       "    </tr>\n",
       "  </tbody>\n",
       "</table>\n",
       "</div>"
      ],
      "text/plain": [
       "               ID         Age     Bedtime  Wakeup_time  Sleep_duration  \\\n",
       "count  452.000000  452.000000  452.000000   452.000000      452.000000   \n",
       "mean   226.500000   40.285398   -0.363938     7.101770        7.465708   \n",
       "std    130.625419   13.172250    1.687559     1.955899        0.866625   \n",
       "min      1.000000    9.000000   -3.000000     3.000000        5.000000   \n",
       "25%    113.750000   29.000000   -2.000000     5.500000        7.000000   \n",
       "50%    226.500000   40.000000    0.000000     7.000000        7.500000   \n",
       "75%    339.250000   52.000000    1.000000     9.000000        8.000000   \n",
       "max    452.000000   69.000000    2.500000    12.500000       10.000000   \n",
       "\n",
       "       Sleep_efficiency  REM_sleep_percentage  Deep_sleep_percentage  \\\n",
       "count        452.000000            452.000000             452.000000   \n",
       "mean           0.788916             22.615044              52.823009   \n",
       "std            0.135237              3.525963              15.654235   \n",
       "min            0.500000             15.000000              18.000000   \n",
       "25%            0.697500             20.000000              48.250000   \n",
       "50%            0.820000             22.000000              58.000000   \n",
       "75%            0.900000             25.000000              63.000000   \n",
       "max            0.990000             30.000000              75.000000   \n",
       "\n",
       "       Light_sleep_percentage  Awakenings  Caffeine_consumption  \\\n",
       "count              452.000000  432.000000            427.000000   \n",
       "mean                24.561947    1.641204             23.653396   \n",
       "std                 15.313665    1.356762             30.202785   \n",
       "min                  7.000000    0.000000              0.000000   \n",
       "25%                 15.000000    1.000000              0.000000   \n",
       "50%                 18.000000    1.000000             25.000000   \n",
       "75%                 32.500000    3.000000             50.000000   \n",
       "max                 63.000000    4.000000            200.000000   \n",
       "\n",
       "       Alcohol_consumption  Exercise_frequency  Gender_Female  Gender_Male  \\\n",
       "count           438.000000          446.000000     452.000000   452.000000   \n",
       "mean              1.173516            1.791480       0.495575     0.504425   \n",
       "std               1.621377            1.428134       0.500534     0.500534   \n",
       "min               0.000000            0.000000       0.000000     0.000000   \n",
       "25%               0.000000            0.000000       0.000000     0.000000   \n",
       "50%               0.000000            2.000000       0.000000     1.000000   \n",
       "75%               2.000000            3.000000       1.000000     1.000000   \n",
       "max               5.000000            5.000000       1.000000     1.000000   \n",
       "\n",
       "       Smoking_status_No  Smoking_status_Yes  \n",
       "count         452.000000          452.000000  \n",
       "mean            0.659292            0.340708  \n",
       "std             0.474472            0.474472  \n",
       "min             0.000000            0.000000  \n",
       "25%             0.000000            0.000000  \n",
       "50%             1.000000            0.000000  \n",
       "75%             1.000000            1.000000  \n",
       "max             1.000000            1.000000  "
      ]
     },
     "execution_count": 63,
     "metadata": {},
     "output_type": "execute_result"
    }
   ],
   "source": [
    "# Now, all columns are numeric:\n",
    "df_clean.describe()"
   ]
  },
  {
   "cell_type": "code",
   "execution_count": 64,
   "id": "143092f1c13a6ca5",
   "metadata": {
    "ExecuteTime": {
     "end_time": "2023-10-18T10:03:36.468807Z",
     "start_time": "2023-10-18T10:03:36.393803Z"
    }
   },
   "outputs": [],
   "source": [
    "# Drop irrelevant columns\n",
    "df_clean = df_clean.drop(columns=[\"ID\", \"Gender_Male\", \"Smoking_status_No\"])"
   ]
  },
  {
   "cell_type": "markdown",
   "id": "67597ab5",
   "metadata": {},
   "source": [
    "### Handle missing values\n",
    "- We only have missing values in 4 columns: \n",
    "    - Awakenings\n",
    "    - Caffeine_consumption\n",
    "    - Alcohol_consumption\n",
    "    - Exercise_frequency\n",
    "- Dropping all correspondent rows would lead to 14% less data (see calculation below), which I would not want to do because we already have few data available\n",
    "- Dropping the entire columns is also not an option because caffeine / alcohol / exercise will be important predictors \n",
    "- That is why I decided to replace the missing values with the column mean\n",
    "- I know this diludes the dataset to some extent, but I think that is ok, given that it will effect at most 452-427=25 values per column"
   ]
  },
  {
   "cell_type": "code",
   "execution_count": 65,
   "id": "662c1614",
   "metadata": {},
   "outputs": [
    {
     "name": "stdout",
     "output_type": "stream",
     "text": [
      "452\n",
      "388\n",
      "0.1415929203539823\n"
     ]
    }
   ],
   "source": [
    "# Potential effect of dropping all rows containing NAN values:\n",
    "rows_before = len(df_clean)\n",
    "rows_after_dropping_all_nans =  len(df_clean.dropna())\n",
    "print(rows_before)\n",
    "print(rows_after_dropping_all_nans)\n",
    "print(1-rows_after_dropping_all_nans/rows_before)"
   ]
  },
  {
   "cell_type": "code",
   "execution_count": 66,
   "id": "27c1d9b75af38865",
   "metadata": {
    "ExecuteTime": {
     "end_time": "2023-10-18T10:03:36.468876Z",
     "start_time": "2023-10-18T10:03:36.397039Z"
    }
   },
   "outputs": [
    {
     "name": "stdout",
     "output_type": "stream",
     "text": [
      "452\n",
      "452\n"
     ]
    }
   ],
   "source": [
    "# Handle missing values: replace by column mean\n",
    "print(len(df_clean))\n",
    "cols_including_nan = df_clean.columns[df_clean.isna().any(axis=0)]\n",
    "df_clean[cols_including_nan] = df_clean[cols_including_nan].fillna(value=df_clean[cols_including_nan].mean(axis=0))\n",
    "print(len(df_clean))"
   ]
  },
  {
   "cell_type": "code",
   "execution_count": 67,
   "id": "2e01cd72af57bac3",
   "metadata": {
    "ExecuteTime": {
     "end_time": "2023-10-18T10:03:36.899015Z",
     "start_time": "2023-10-18T10:03:36.403251Z"
    }
   },
   "outputs": [
    {
     "name": "stdout",
     "output_type": "stream",
     "text": [
      "Very high correlation\n"
     ]
    },
    {
     "data": {
      "image/png": "[encoded data removed]",
      "text/plain": [
       "<Figure size 432x288 with 2 Axes>"
      ]
     },
     "metadata": {
      "needs_background": "light"
     },
     "output_type": "display_data"
    },
    {
     "name": "stdout",
     "output_type": "stream",
     "text": [
      "High correlation\n"
     ]
    },
    {
     "data": {
      "image/png": "[encoded data removed]",
      "text/plain": [
       "<Figure size 432x288 with 2 Axes>"
      ]
     },
     "metadata": {
      "needs_background": "light"
     },
     "output_type": "display_data"
    },
    {
     "name": "stdout",
     "output_type": "stream",
     "text": [
      "Medium correlation\n"
     ]
    },
    {
     "data": {
      "image/png": "[encoded data removed]",
      "text/plain": [
       "<Figure size 432x288 with 2 Axes>"
      ]
     },
     "metadata": {
      "needs_background": "light"
     },
     "output_type": "display_data"
    }
   ],
   "source": [
    "corr_limits = {\n",
    "    \"Very high correlation\": {\"low\": 0.5, \"high\": 1.0},\n",
    "    \"High correlation\": {\"low\": 0.3, \"high\": 0.5},\n",
    "    \"Medium correlation\": {\"low\": 0.1, \"high\": 0.2},\n",
    "}\n",
    "for corr_name, corr_limit in corr_limits.items():\n",
    "    print(corr_name)\n",
    "    mask1 = df_clean.corr().abs() > corr_limit[\"low\"]\n",
    "    mask2 = df_clean.corr().abs() < corr_limit[\"high\"]\n",
    "    corr = df_clean.corr()[mask1 & mask2]\n",
    "    plt.figure()\n",
    "    sns.heatmap(corr, annot=True, cmap=\"coolwarm\")\n",
    "    plt.show()"
   ]
  },
  {
   "cell_type": "markdown",
   "id": "769c2c1658d16af8",
   "metadata": {},
   "source": [
    "### Analyze correlation plot:\n",
    "- light sleep and deep sleep seem to be almost perfectly negatively correlated\n",
    "- sleep efficiency is strongly correlated with deep sleep\n",
    "- sleep duration depends more on wakeup_time than on bedtime\n",
    "- people who do more exercise, go to bed earlier\n",
    "- alcohol decreases deep sleep and sleep efficiency\n",
    "\n",
    "Take away: When trying to predict sleep efficiency one should not take deep and light sleep into the equation"
   ]
  },
  {
   "cell_type": "markdown",
   "id": "22e5c78ee05e39ca",
   "metadata": {},
   "source": [
    "## 4. Modeling"
   ]
  },
  {
   "cell_type": "code",
   "execution_count": 68,
   "id": "9cae6192fd8fb03c",
   "metadata": {
    "ExecuteTime": {
     "end_time": "2023-10-18T10:03:36.907292Z",
     "start_time": "2023-10-18T10:03:36.903655Z"
    }
   },
   "outputs": [
    {
     "data": {
      "text/html": [
       "<div>\n",
       "<style scoped>\n",
       "    .dataframe tbody tr th:only-of-type {\n",
       "        vertical-align: middle;\n",
       "    }\n",
       "\n",
       "    .dataframe tbody tr th {\n",
       "        vertical-align: top;\n",
       "    }\n",
       "\n",
       "    .dataframe thead th {\n",
       "        text-align: right;\n",
       "    }\n",
       "</style>\n",
       "<table border=\"1\" class=\"dataframe\">\n",
       "  <thead>\n",
       "    <tr style=\"text-align: right;\">\n",
       "      <th></th>\n",
       "      <th>Age</th>\n",
       "      <th>Bedtime</th>\n",
       "      <th>Wakeup_time</th>\n",
       "      <th>Sleep_duration</th>\n",
       "      <th>Sleep_efficiency</th>\n",
       "      <th>REM_sleep_percentage</th>\n",
       "      <th>Deep_sleep_percentage</th>\n",
       "      <th>Light_sleep_percentage</th>\n",
       "      <th>Awakenings</th>\n",
       "      <th>Caffeine_consumption</th>\n",
       "      <th>Alcohol_consumption</th>\n",
       "      <th>Exercise_frequency</th>\n",
       "      <th>Gender_Female</th>\n",
       "      <th>Smoking_status_Yes</th>\n",
       "    </tr>\n",
       "  </thead>\n",
       "  <tbody>\n",
       "    <tr>\n",
       "      <th>0</th>\n",
       "      <td>65</td>\n",
       "      <td>1.0</td>\n",
       "      <td>7.0</td>\n",
       "      <td>6.0</td>\n",
       "      <td>0.88</td>\n",
       "      <td>18</td>\n",
       "      <td>70</td>\n",
       "      <td>12</td>\n",
       "      <td>0.0</td>\n",
       "      <td>0.0</td>\n",
       "      <td>0.0</td>\n",
       "      <td>3.0</td>\n",
       "      <td>1.0</td>\n",
       "      <td>1.0</td>\n",
       "    </tr>\n",
       "    <tr>\n",
       "      <th>1</th>\n",
       "      <td>69</td>\n",
       "      <td>2.0</td>\n",
       "      <td>9.0</td>\n",
       "      <td>7.0</td>\n",
       "      <td>0.66</td>\n",
       "      <td>19</td>\n",
       "      <td>28</td>\n",
       "      <td>53</td>\n",
       "      <td>3.0</td>\n",
       "      <td>0.0</td>\n",
       "      <td>3.0</td>\n",
       "      <td>3.0</td>\n",
       "      <td>0.0</td>\n",
       "      <td>1.0</td>\n",
       "    </tr>\n",
       "    <tr>\n",
       "      <th>2</th>\n",
       "      <td>40</td>\n",
       "      <td>-2.5</td>\n",
       "      <td>5.5</td>\n",
       "      <td>8.0</td>\n",
       "      <td>0.89</td>\n",
       "      <td>20</td>\n",
       "      <td>70</td>\n",
       "      <td>10</td>\n",
       "      <td>1.0</td>\n",
       "      <td>0.0</td>\n",
       "      <td>0.0</td>\n",
       "      <td>3.0</td>\n",
       "      <td>1.0</td>\n",
       "      <td>0.0</td>\n",
       "    </tr>\n",
       "    <tr>\n",
       "      <th>3</th>\n",
       "      <td>40</td>\n",
       "      <td>2.5</td>\n",
       "      <td>8.5</td>\n",
       "      <td>6.0</td>\n",
       "      <td>0.51</td>\n",
       "      <td>23</td>\n",
       "      <td>25</td>\n",
       "      <td>52</td>\n",
       "      <td>3.0</td>\n",
       "      <td>50.0</td>\n",
       "      <td>5.0</td>\n",
       "      <td>1.0</td>\n",
       "      <td>1.0</td>\n",
       "      <td>1.0</td>\n",
       "    </tr>\n",
       "    <tr>\n",
       "      <th>4</th>\n",
       "      <td>57</td>\n",
       "      <td>1.0</td>\n",
       "      <td>9.0</td>\n",
       "      <td>8.0</td>\n",
       "      <td>0.76</td>\n",
       "      <td>27</td>\n",
       "      <td>55</td>\n",
       "      <td>18</td>\n",
       "      <td>3.0</td>\n",
       "      <td>0.0</td>\n",
       "      <td>3.0</td>\n",
       "      <td>3.0</td>\n",
       "      <td>0.0</td>\n",
       "      <td>0.0</td>\n",
       "    </tr>\n",
       "  </tbody>\n",
       "</table>\n",
       "</div>"
      ],
      "text/plain": [
       "   Age  Bedtime  Wakeup_time  Sleep_duration  Sleep_efficiency  \\\n",
       "0   65      1.0          7.0             6.0              0.88   \n",
       "1   69      2.0          9.0             7.0              0.66   \n",
       "2   40     -2.5          5.5             8.0              0.89   \n",
       "3   40      2.5          8.5             6.0              0.51   \n",
       "4   57      1.0          9.0             8.0              0.76   \n",
       "\n",
       "   REM_sleep_percentage  Deep_sleep_percentage  Light_sleep_percentage  \\\n",
       "0                    18                     70                      12   \n",
       "1                    19                     28                      53   \n",
       "2                    20                     70                      10   \n",
       "3                    23                     25                      52   \n",
       "4                    27                     55                      18   \n",
       "\n",
       "   Awakenings  Caffeine_consumption  Alcohol_consumption  Exercise_frequency  \\\n",
       "0         0.0                   0.0                  0.0                 3.0   \n",
       "1         3.0                   0.0                  3.0                 3.0   \n",
       "2         1.0                   0.0                  0.0                 3.0   \n",
       "3         3.0                  50.0                  5.0                 1.0   \n",
       "4         3.0                   0.0                  3.0                 3.0   \n",
       "\n",
       "   Gender_Female  Smoking_status_Yes  \n",
       "0            1.0                 1.0  \n",
       "1            0.0                 1.0  \n",
       "2            1.0                 0.0  \n",
       "3            1.0                 1.0  \n",
       "4            0.0                 0.0  "
      ]
     },
     "execution_count": 68,
     "metadata": {},
     "output_type": "execute_result"
    }
   ],
   "source": [
    "df_clean.head()"
   ]
  },
  {
   "cell_type": "code",
   "execution_count": 69,
   "id": "bfbe45c965b3b16c",
   "metadata": {
    "ExecuteTime": {
     "end_time": "2023-10-18T10:03:37.047630Z",
     "start_time": "2023-10-18T10:03:36.908940Z"
    }
   },
   "outputs": [
    {
     "name": "stdout",
     "output_type": "stream",
     "text": [
      "[[ 1.         -0.06246207]\n",
      " [-0.06246207  1.        ]]\n"
     ]
    },
    {
     "data": {
      "text/plain": [
       "Text(0, 0.5, 'Sleep_duration')"
      ]
     },
     "execution_count": 69,
     "metadata": {},
     "output_type": "execute_result"
    },
    {
     "data": {
      "image/png": "[encoded data removed]",
      "text/plain": [
       "<Figure size 432x288 with 1 Axes>"
      ]
     },
     "metadata": {
      "needs_background": "light"
     },
     "output_type": "display_data"
    }
   ],
   "source": [
    "age = df_clean[\"Age\"]\n",
    "sleep_duration = df_clean[\"Sleep_duration\"]\n",
    "print(np.corrcoef(age, sleep_duration))\n",
    "plt.scatter(age, sleep_duration)\n",
    "plt.xlabel(\"Age\")\n",
    "plt.ylabel(\"Sleep_duration\")"
   ]
  },
  {
   "cell_type": "code",
   "execution_count": 70,
   "id": "a21ee68e8868e620",
   "metadata": {
    "ExecuteTime": {
     "end_time": "2023-10-18T10:03:37.047847Z",
     "start_time": "2023-10-18T10:03:36.997379Z"
    }
   },
   "outputs": [
    {
     "name": "stdout",
     "output_type": "stream",
     "text": [
      "Without normalization\n",
      "reg.score(X_train, y_train) = 0.26422759115987293\n",
      "reg.score(X_test, y_test) = 0.3309830147501094\n",
      "MinMax normalization\n",
      "reg_scaled.score(X_train_scaled, y_train) = 0.26422759115987293\n",
      "reg_scaled.score(X_test_scaled, y_test) = 0.3309830147501094\n"
     ]
    }
   ],
   "source": [
    "X = df_clean[[\n",
    "    \"Age\",\n",
    "    \"Gender_Female\",\n",
    "    \"Smoking_status_Yes\",\n",
    "    \"Caffeine_consumption\",\n",
    "    \"Alcohol_consumption\",\n",
    "    \"Exercise_frequency\",\n",
    "    \"Bedtime\",\n",
    "    \"Sleep_duration\",\n",
    "]]\n",
    "y = df_clean[\"Sleep_efficiency\"]\n",
    "\n",
    "X_train, X_test, y_train, y_test = train_test_split(X, y, test_size=0.33, random_state=42)\n",
    "\n",
    "print(\"Without normalization\")\n",
    "reg = LinearRegression().fit(X_train, y_train)\n",
    "print(f\"{reg.score(X_train, y_train) = }\")\n",
    "print(f\"{reg.score(X_test, y_test) = }\")\n",
    "\n",
    "print(\"MinMax normalization\")\n",
    "scaler = MinMaxScaler()\n",
    "X_scaled = scaler.fit_transform(X=X)\n",
    "X_train_scaled, X_test_scaled, y_train, y_test = train_test_split(X_scaled, y, test_size=0.33, random_state=42)\n",
    "reg_scaled = LinearRegression().fit(X_train_scaled, y_train)\n",
    "print(f\"{reg_scaled.score(X_train_scaled, y_train) = }\")\n",
    "print(f\"{reg_scaled.score(X_test_scaled, y_test) = }\")"
   ]
  },
  {
   "cell_type": "code",
   "execution_count": 71,
   "id": "f1ff072a9833bbf4",
   "metadata": {
    "ExecuteTime": {
     "end_time": "2023-10-18T10:03:37.129254Z",
     "start_time": "2023-10-18T10:03:37.002475Z"
    }
   },
   "outputs": [
    {
     "name": "stdout",
     "output_type": "stream",
     "text": [
      "Analysis of normalized features:\n"
     ]
    },
    {
     "data": {
      "image/png": "[encoded data removed]",
      "text/plain": [
       "<Figure size 432x288 with 1 Axes>"
      ]
     },
     "metadata": {},
     "output_type": "display_data"
    },
    {
     "data": {
      "image/png": "[encoded data removed]",
      "text/plain": [
       "<Figure size 432x288 with 1 Axes>"
      ]
     },
     "metadata": {},
     "output_type": "display_data"
    }
   ],
   "source": [
    "print(\"Analysis of normalized features:\")\n",
    "labels = np.array([f\"{a} {b:.2f}\" for a, b in zip(X.columns, reg_scaled.coef_)])\n",
    "plt.pie(x=reg_scaled.coef_[reg_scaled.coef_ > 0],\n",
    "        labels=labels[reg_scaled.coef_ > 0],\n",
    "        autopct='%1.1f%%')\n",
    "plt.title(f\"Beneficial factors:\")\n",
    "plt.show()\n",
    "plt.pie(x=np.abs(reg_scaled.coef_[reg_scaled.coef_ < 0]),\n",
    "        labels=labels[reg_scaled.coef_ < 0],\n",
    "        autopct='%1.1f%%')\n",
    "plt.title(f\"Detrimental factors:\")\n",
    "plt.show()"
   ]
  },
  {
   "cell_type": "code",
   "execution_count": 72,
   "id": "bef3e227ac8d3884",
   "metadata": {
    "ExecuteTime": {
     "end_time": "2023-10-18T10:03:37.129519Z",
     "start_time": "2023-10-18T10:03:37.097132Z"
    }
   },
   "outputs": [
    {
     "name": "stdout",
     "output_type": "stream",
     "text": [
      "Analysis of non-normalized factors:\n",
      "Age --> 0.10%\n",
      "Gender_Female --> -0.44%\n",
      "Smoking_status_Yes --> -5.96%\n",
      "Caffeine_consumption --> 0.01%\n",
      "Alcohol_consumption --> -3.00%\n",
      "Exercise_frequency --> 1.90%\n",
      "Bedtime --> -0.49%\n",
      "Sleep_duration --> -0.07%\n"
     ]
    }
   ],
   "source": [
    "print(\"Analysis of non-normalized factors:\")\n",
    "for label, coef in zip(X.columns, reg.coef_):\n",
    "    print(f\"{label} --> {coef:.2%}\")"
   ]
  },
  {
   "cell_type": "code",
   "execution_count": 73,
   "id": "dabd277960e4211",
   "metadata": {
    "ExecuteTime": {
     "end_time": "2023-10-18T10:03:37.188636Z",
     "start_time": "2023-10-18T10:03:37.101284Z"
    }
   },
   "outputs": [
    {
     "data": {
      "image/png": "[encoded data removed]",
      "text/plain": [
       "<Figure size 432x288 with 1 Axes>"
      ]
     },
     "metadata": {
      "needs_background": "light"
     },
     "output_type": "display_data"
    }
   ],
   "source": [
    "y_pred = reg.predict(X_test)\n",
    "plt.scatter(y_test.values, y_pred)\n",
    "plt.plot(y_test.sort_values().values, y_test.sort_values().values, color=\"r\")\n",
    "plt.xlabel(\"Actual Sleep Efficiency\")\n",
    "plt.ylabel(\"Predicted Sleep Efficiency\")\n",
    "plt.show()"
   ]
  },
  {
   "cell_type": "markdown",
   "id": "f517e6bc39326e9d",
   "metadata": {},
   "source": [
    "## 5. Evaluation"
   ]
  },
  {
   "cell_type": "markdown",
   "id": "294d36df2cbcc065",
   "metadata": {},
   "source": [
    "Answers to Business Questions from 1:\n",
    "1. Age does not seem to influence sleep duration\n",
    "2. Unexpectedly, caffeine consumption had a positive effect on sleep efficiency\n",
    "3. Most important beneficial factor is exercise frequency and most important detrimental factor is alcohol consumption\n",
    "\n",
    "Other observations / remarks\n",
    "- Results are to be taken with a grain of salt\n",
    "- r2 score is very low and most of the variance remains unexplained\n",
    "- No explanation for the two clusters in deep sleep: \n",
    "- It is unclear if the whole dataset is fake (even though it's stated that it comes from a study)\n",
    "- Careful with strongly correlated variables"
   ]
  },
  {
   "cell_type": "markdown",
   "id": "2641cbf13951788a",
   "metadata": {},
   "source": [
    "## 6. Deployment"
   ]
  },
  {
   "cell_type": "markdown",
   "id": "295bf8594e925f0b",
   "metadata": {},
   "source": [
    "In this case, deployment means we provide some advice: \n",
    "- Never trust data you haven't collected yourself\n",
    "- Perform a longitudinal study with the same individuals\n",
    "- Collect data in a finer way (e.g., sleep duration on a minute basis)\n",
    "- Do more exercise and drink less (always a good recommendation ;-))"
   ]
  },
  {
   "cell_type": "code",
   "execution_count": null,
   "id": "8a1bf95e6bd66187",
   "metadata": {
    "ExecuteTime": {
     "end_time": "2023-10-18T10:03:37.188745Z",
     "start_time": "2023-10-18T10:03:37.174431Z"
    }
   },
   "outputs": [],
   "source": []
  }
 ],
 "metadata": {
  "kernelspec": {
   "display_name": "Python 3 (ipykernel)",
   "language": "python",
   "name": "python3"
  },
  "language_info": {
   "codemirror_mode": {
    "name": "ipython",
    "version": 3
   },
   "file_extension": ".py",
   "mimetype": "text/x-python",
   "name": "python",
   "nbconvert_exporter": "python",
   "pygments_lexer": "ipython3",
   "version": "3.9.12"
  }
 },
 "nbformat": 4,
 "nbformat_minor": 5
}
